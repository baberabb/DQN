{
  "nbformat": 4,
  "nbformat_minor": 0,
  "metadata": {
    "colab": {
      "name": "PART 1 final Q learning.ipynb",
      "provenance": [],
      "collapsed_sections": []
    },
    "kernelspec": {
      "name": "python3",
      "display_name": "Python 3"
    },
    "language_info": {
      "name": "python"
    }
  },
  "cells": [
    {
      "cell_type": "markdown",
      "source": [
        "APPENDIX 1: Q learneing PArt 1"
      ],
      "metadata": {
        "id": "naQiLtMP533r"
      }
    },
    {
      "cell_type": "code",
      "source": [
        "!pip install -U gym\n"
      ],
      "metadata": {
        "id": "IVyAeIkhrz9D",
        "colab": {
          "base_uri": "https://localhost:8080/"
        },
        "outputId": "88beca02-e811-4da1-dbce-cbce6cef5d4c"
      },
      "execution_count": 1,
      "outputs": [
        {
          "output_type": "stream",
          "name": "stdout",
          "text": [
            "Requirement already satisfied: gym in /usr/local/lib/python3.7/dist-packages (0.17.3)\n",
            "Collecting gym\n",
            "  Downloading gym-0.23.1.tar.gz (626 kB)\n",
            "\u001b[K     |████████████████████████████████| 626 kB 4.0 MB/s \n",
            "\u001b[?25h  Installing build dependencies ... \u001b[?25l\u001b[?25hdone\n",
            "  Getting requirements to build wheel ... \u001b[?25l\u001b[?25hdone\n",
            "    Preparing wheel metadata ... \u001b[?25l\u001b[?25hdone\n",
            "Collecting gym-notices>=0.0.4\n",
            "  Downloading gym_notices-0.0.6-py3-none-any.whl (2.7 kB)\n",
            "Requirement already satisfied: importlib-metadata>=4.10.0 in /usr/local/lib/python3.7/dist-packages (from gym) (4.11.3)\n",
            "Requirement already satisfied: numpy>=1.18.0 in /usr/local/lib/python3.7/dist-packages (from gym) (1.21.6)\n",
            "Requirement already satisfied: cloudpickle>=1.2.0 in /usr/local/lib/python3.7/dist-packages (from gym) (1.3.0)\n",
            "Requirement already satisfied: zipp>=0.5 in /usr/local/lib/python3.7/dist-packages (from importlib-metadata>=4.10.0->gym) (3.8.0)\n",
            "Requirement already satisfied: typing-extensions>=3.6.4 in /usr/local/lib/python3.7/dist-packages (from importlib-metadata>=4.10.0->gym) (4.2.0)\n",
            "Building wheels for collected packages: gym\n",
            "  Building wheel for gym (PEP 517) ... \u001b[?25l\u001b[?25hdone\n",
            "  Created wheel for gym: filename=gym-0.23.1-py3-none-any.whl size=701376 sha256=befc925e9a882474b1e6cc22d3c8b675a815b9a882fd089f628ea2dcb7839b2a\n",
            "  Stored in directory: /root/.cache/pip/wheels/e3/33/04/6723848e46f0f1ebe794bb329b7c761c3329a0d7ffade99da7\n",
            "Successfully built gym\n",
            "Installing collected packages: gym-notices, gym\n",
            "  Attempting uninstall: gym\n",
            "    Found existing installation: gym 0.17.3\n",
            "    Uninstalling gym-0.17.3:\n",
            "      Successfully uninstalled gym-0.17.3\n",
            "Successfully installed gym-0.23.1 gym-notices-0.0.6\n"
          ]
        }
      ]
    },
    {
      "cell_type": "code",
      "source": [
        "import gym\n",
        "!python -m pip install pygame\n",
        "import numpy as np\n",
        "import pandas as pd\n",
        "import matplotlib.pyplot as plt\n",
        "import random\n",
        "!pip install wandb\n",
        "import wandb"
      ],
      "metadata": {
        "id": "z_QxE8zWSvsl",
        "colab": {
          "base_uri": "https://localhost:8080/"
        },
        "outputId": "113adde3-9354-458a-fd9e-281b5f5e26af"
      },
      "execution_count": 2,
      "outputs": [
        {
          "output_type": "stream",
          "name": "stdout",
          "text": [
            "Collecting pygame\n",
            "  Downloading pygame-2.1.2-cp37-cp37m-manylinux_2_17_x86_64.manylinux2014_x86_64.whl (21.8 MB)\n",
            "\u001b[K     |████████████████████████████████| 21.8 MB 1.7 MB/s \n",
            "\u001b[?25hInstalling collected packages: pygame\n",
            "Successfully installed pygame-2.1.2\n",
            "Collecting wandb\n",
            "  Downloading wandb-0.12.15-py2.py3-none-any.whl (1.8 MB)\n",
            "\u001b[K     |████████████████████████████████| 1.8 MB 4.3 MB/s \n",
            "\u001b[?25hRequirement already satisfied: promise<3,>=2.0 in /usr/local/lib/python3.7/dist-packages (from wandb) (2.3)\n",
            "Requirement already satisfied: protobuf>=3.12.0 in /usr/local/lib/python3.7/dist-packages (from wandb) (3.17.3)\n",
            "Collecting setproctitle\n",
            "  Downloading setproctitle-1.2.3-cp37-cp37m-manylinux_2_5_x86_64.manylinux1_x86_64.manylinux_2_17_x86_64.manylinux2014_x86_64.whl (29 kB)\n",
            "Requirement already satisfied: six>=1.13.0 in /usr/local/lib/python3.7/dist-packages (from wandb) (1.15.0)\n",
            "Requirement already satisfied: Click!=8.0.0,>=7.0 in /usr/local/lib/python3.7/dist-packages (from wandb) (7.1.2)\n",
            "Collecting docker-pycreds>=0.4.0\n",
            "  Downloading docker_pycreds-0.4.0-py2.py3-none-any.whl (9.0 kB)\n",
            "Requirement already satisfied: python-dateutil>=2.6.1 in /usr/local/lib/python3.7/dist-packages (from wandb) (2.8.2)\n",
            "Collecting GitPython>=1.0.0\n",
            "  Downloading GitPython-3.1.27-py3-none-any.whl (181 kB)\n",
            "\u001b[K     |████████████████████████████████| 181 kB 53.8 MB/s \n",
            "\u001b[?25hCollecting shortuuid>=0.5.0\n",
            "  Downloading shortuuid-1.0.8-py3-none-any.whl (9.5 kB)\n",
            "Requirement already satisfied: psutil>=5.0.0 in /usr/local/lib/python3.7/dist-packages (from wandb) (5.4.8)\n",
            "Collecting pathtools\n",
            "  Downloading pathtools-0.1.2.tar.gz (11 kB)\n",
            "Requirement already satisfied: PyYAML in /usr/local/lib/python3.7/dist-packages (from wandb) (3.13)\n",
            "Requirement already satisfied: requests<3,>=2.0.0 in /usr/local/lib/python3.7/dist-packages (from wandb) (2.23.0)\n",
            "Collecting sentry-sdk>=1.0.0\n",
            "  Downloading sentry_sdk-1.5.10-py2.py3-none-any.whl (144 kB)\n",
            "\u001b[K     |████████████████████████████████| 144 kB 40.1 MB/s \n",
            "\u001b[?25hCollecting gitdb<5,>=4.0.1\n",
            "  Downloading gitdb-4.0.9-py3-none-any.whl (63 kB)\n",
            "\u001b[K     |████████████████████████████████| 63 kB 1.6 MB/s \n",
            "\u001b[?25hRequirement already satisfied: typing-extensions>=3.7.4.3 in /usr/local/lib/python3.7/dist-packages (from GitPython>=1.0.0->wandb) (4.2.0)\n",
            "Collecting smmap<6,>=3.0.1\n",
            "  Downloading smmap-5.0.0-py3-none-any.whl (24 kB)\n",
            "Requirement already satisfied: urllib3!=1.25.0,!=1.25.1,<1.26,>=1.21.1 in /usr/local/lib/python3.7/dist-packages (from requests<3,>=2.0.0->wandb) (1.24.3)\n",
            "Requirement already satisfied: idna<3,>=2.5 in /usr/local/lib/python3.7/dist-packages (from requests<3,>=2.0.0->wandb) (2.10)\n",
            "Requirement already satisfied: certifi>=2017.4.17 in /usr/local/lib/python3.7/dist-packages (from requests<3,>=2.0.0->wandb) (2021.10.8)\n",
            "Requirement already satisfied: chardet<4,>=3.0.2 in /usr/local/lib/python3.7/dist-packages (from requests<3,>=2.0.0->wandb) (3.0.4)\n",
            "Building wheels for collected packages: pathtools\n",
            "  Building wheel for pathtools (setup.py) ... \u001b[?25l\u001b[?25hdone\n",
            "  Created wheel for pathtools: filename=pathtools-0.1.2-py3-none-any.whl size=8806 sha256=ef4a0e221d397ed6e5be8c77fe462e0708b80627681d529ce45cf229ecbd5008\n",
            "  Stored in directory: /root/.cache/pip/wheels/3e/31/09/fa59cef12cdcfecc627b3d24273699f390e71828921b2cbba2\n",
            "Successfully built pathtools\n",
            "Installing collected packages: smmap, gitdb, shortuuid, setproctitle, sentry-sdk, pathtools, GitPython, docker-pycreds, wandb\n",
            "Successfully installed GitPython-3.1.27 docker-pycreds-0.4.0 gitdb-4.0.9 pathtools-0.1.2 sentry-sdk-1.5.10 setproctitle-1.2.3 shortuuid-1.0.8 smmap-5.0.0 wandb-0.12.15\n"
          ]
        }
      ]
    },
    {
      "cell_type": "markdown",
      "source": [
        "The follwing enviorment is taken from https://github.com/openai/gym/blob/master/gym/envs/toy_text/taxi.py and adapted."
      ],
      "metadata": {
        "id": "Oo6IEUKb6Bzp"
      }
    },
    {
      "cell_type": "code",
      "source": [
        "#First we create the enviorment. \n",
        "from contextlib import closing\n",
        "from io import StringIO\n",
        "from os import path\n",
        "from typing import Optional\n",
        "\n",
        "import numpy as np\n",
        "\n",
        "from gym import Env, spaces, utils\n",
        "import numpy as np\n",
        "\n",
        "\n",
        "def categorical_sample(prob_n, np_random):\n",
        "    \"\"\"\n",
        "    Sample from categorical distribution\n",
        "    Each row specifies class probabilities\n",
        "    \"\"\"\n",
        "    prob_n = np.asarray(prob_n)\n",
        "    csprob_n = np.cumsum(prob_n)\n",
        "    return (csprob_n > np_random.random()).argmax()\n",
        "#Apapted the enviorment representation\n",
        "MAP = [\n",
        "    \"+---------+\",\n",
        "    \"|R: :O: :G|\",\n",
        "    \"| : : : : |\",\n",
        "    \"|O: :O: :O|\",\n",
        "    \"| : : : : |\",\n",
        "    \"|Y| :O|B: |\",\n",
        "    \"+---------+\",\n",
        "]\n",
        "WINDOW_SIZE = (550, 350)\n",
        "\n",
        "\n",
        "class WareEnv(Env):\n",
        "    \"\"\"\n",
        "    The Taxi Problem\n",
        "    from \"Hierarchical Reinforcement Learning with the MAXQ Value Function Decomposition\"\n",
        "    by Tom Dietterich\n",
        "    ### Description\n",
        "    There are four designated locations in the grid world indicated by R(ed),\n",
        "    G(reen), Y(ellow), and B(lue). When the episode starts, the taxi starts off\n",
        "    at a random square and the passenger is at a random location. The taxi\n",
        "    drives to the passenger's location, picks up the passenger, drives to the\n",
        "    passenger's destination (another one of the four specified locations), and\n",
        "    then drops off the passenger. Once the passenger is dropped off, the episode ends.\n",
        "    Map:\n",
        "        +---------+\n",
        "        |R: | : :G|\n",
        "        | : | : : |\n",
        "        | : : : : |\n",
        "        | | : | : |\n",
        "        |Y| : |B: |\n",
        "        +---------+\n",
        "    ### Actions\n",
        "    There are 6 discrete deterministic actions:\n",
        "    - 0: move south\n",
        "    - 1: move north\n",
        "    - 2: move east\n",
        "    - 3: move west\n",
        "    - 4: pickup passenger\n",
        "    - 5: drop off passenger\n",
        "    ### Observations\n",
        "    There are 500 discrete states since there are 25 taxi positions, 5 possible\n",
        "    locations of the passenger (including the case when the passenger is in the\n",
        "    taxi), and 4 destination locations.\n",
        "    Note that there are 400 states that can actually be reached during an\n",
        "    episode. The missing states correspond to situations in which the passenger\n",
        "    is at the same location as their destination, as this typically signals the\n",
        "    end of an episode. Four additional states can be observed right after a\n",
        "    successful episodes, when both the passenger and the taxi are at the destination.\n",
        "    This gives a total of 404 reachable discrete states.\n",
        "    Passenger locations:\n",
        "    - 0: R(ed)\n",
        "    - 1: G(reen)\n",
        "    - 2: Y(ellow)\n",
        "    - 3: B(lue)\n",
        "    - 4: in taxi\n",
        "    Destinations:\n",
        "    - 0: R(ed)\n",
        "    - 1: G(reen)\n",
        "    - 2: Y(ellow)\n",
        "    - 3: B(lue)\n",
        "    ### Rewards\n",
        "    - -1 per step unless other reward is triggered.\n",
        "    - +20 delivering passenger.\n",
        "    - -10  executing \"pickup\" and \"drop-off\" actions illegally.\n",
        "    state space is represented by:\n",
        "    (taxi_row, taxi_col, passenger_location, destination)\n",
        "    ### Arguments\n",
        "    ```\n",
        "    gym.make('Taxi-v3')\n",
        "    ```\n",
        "    ### Version History\n",
        "    * v3: Map Correction + Cleaner Domain Description\n",
        "    * v2: Disallow Taxi start location = goal location, Update Taxi observations in the rollout, Update Taxi reward threshold.\n",
        "    * v1: Remove (3,2) from locs, add passidx<4 check\n",
        "    * v0: Initial versions release\n",
        "    \"\"\"\n",
        "\n",
        "    metadata = {\"render_modes\": [\"human\", \"ansi\", \"rgb_array\"], \"render_fps\": 4}\n",
        "\n",
        "    def __init__(self):\n",
        "        self.desc = np.asarray(MAP, dtype=\"c\")\n",
        "\n",
        "        self.locs = locs = [(0, 0), (0, 4), (4, 0), (4, 3)]\n",
        "        self.box = box = [(0,2), (2,0), (2,2), (2,4), (4, 2)]\n",
        "        self.locs_colors = [(255, 0, 0), (0, 255, 0), (255, 255, 0), (0, 0, 255)]\n",
        "\n",
        "        num_states = 500\n",
        "        num_rows = 5\n",
        "        num_columns = 5\n",
        "        max_row = num_rows - 1\n",
        "        max_col = num_columns - 1\n",
        "        self.initial_state_distrib = np.zeros(num_states)\n",
        "        num_actions = 6\n",
        "        self.P = {\n",
        "            state: {action: [] for action in range(num_actions)}\n",
        "            for state in range(num_states)\n",
        "        }\n",
        "        for row in range(num_rows):\n",
        "            for col in range(num_columns):\n",
        "                for pass_idx in range(len(locs) + 1):  # +1 for being inside taxi\n",
        "                    for dest_idx in range(len(locs)):\n",
        "                        state = self.encode(row, col, pass_idx, dest_idx)\n",
        "                        if pass_idx < 4 and pass_idx != dest_idx:\n",
        "                            self.initial_state_distrib[state] += 1\n",
        "                        for action in range(num_actions):\n",
        "                            # defaults\n",
        "                            new_row, new_col, new_pass_idx = row, col, pass_idx\n",
        "                            reward = (\n",
        "                                -1\n",
        "                            )  # default reward when there is no pickup/dropoff\n",
        "                            done = False\n",
        "                            taxi_loc = (row, col)\n",
        "\n",
        "                            if action == 0:\n",
        "                                if pass_idx == 4 and (min(row + 1, max_row), col) in self.box: #if agent carrying target then cannot pass O cells\n",
        "                                    reward = -2 #also added a penalty of -2 \n",
        "                                    #pass\n",
        "                                else:\n",
        "                                    new_row = min(row + 1, max_row)\n",
        "                            elif action == 1:\n",
        "                                if pass_idx ==4 and (max(row - 1, 0), col) in self.box: #if agent carrying target then cannot pass O cells\n",
        "                                    reward = -2 #also added a penalty of -2\n",
        "                                    #pass\n",
        "                                else:\n",
        "                                    new_row = max(row - 1, 0)\n",
        "                            if action == 2 and self.desc[1 + row, 2 * col + 2] == b\":\":\n",
        "                                if pass_idx == 4 and (row, min(col + 1, max_col)) in self.box: #if agent carrying target then cannot pass O cells\n",
        "                                    reward = -2 #also added a penalty of -2\n",
        "                                    pass\n",
        "                                else:\n",
        "                                    new_col = min(col + 1, max_col)\n",
        "                            elif action == 3 and self.desc[1 + row, 2 * col] == b\":\":\n",
        "                                if pass_idx == 4 and (row, max(col - 1, 0)) in self.box:\n",
        "                                    reward = -2 #also added a penalty of -2\n",
        "                                    pass\n",
        "                                else:\n",
        "                                    new_col = max(col - 1, 0)\n",
        "                            elif action == 4:  # pickup\n",
        "                                if pass_idx < 4 and taxi_loc == locs[pass_idx]:\n",
        "                                    new_pass_idx = 4\n",
        "                                else:  # passenger not at location\n",
        "                                    reward = -10\n",
        "                            elif action == 5:  # dropoff\n",
        "                                if (taxi_loc == locs[dest_idx]) and pass_idx == 4:\n",
        "                                    new_pass_idx = dest_idx\n",
        "                                    done = True\n",
        "                                    reward = 20\n",
        "                                elif (taxi_loc in locs) and pass_idx == 4:\n",
        "                                    new_pass_idx = locs.index(taxi_loc)\n",
        "                                else:  # dropoff at wrong location\n",
        "                                    reward = -10\n",
        "                            new_state = self.encode(\n",
        "                                new_row, new_col, new_pass_idx, dest_idx\n",
        "                            )\n",
        "                            self.P[state][action].append((1.0, new_state, reward, done))\n",
        "        self.initial_state_distrib /= self.initial_state_distrib.sum()\n",
        "        self.action_space = spaces.Discrete(num_actions)\n",
        "        self.observation_space = spaces.Discrete(num_states)\n",
        "\n",
        "        #rest of cell is the same as in the gym ai base class\n",
        "        # pygame utils\n",
        "        self.window = None\n",
        "        self.clock = None\n",
        "        self.cell_size = (\n",
        "            WINDOW_SIZE[0] / self.desc.shape[1],\n",
        "            WINDOW_SIZE[1] / self.desc.shape[0],\n",
        "        )\n",
        "        self.taxi_imgs = None\n",
        "        self.taxi_orientation = 0\n",
        "        self.passenger_img = None\n",
        "        self.destination_img = None\n",
        "        self.median_horiz = None\n",
        "        self.median_vert = None\n",
        "        self.background_img = None\n",
        "\n",
        "    def encode(self, taxi_row, taxi_col, pass_loc, dest_idx):\n",
        "        # (5) 5, 5, 4\n",
        "        i = taxi_row\n",
        "        i *= 5\n",
        "        i += taxi_col\n",
        "        i *= 5\n",
        "        i += pass_loc\n",
        "        i *= 4\n",
        "        i += dest_idx\n",
        "        return i\n",
        "\n",
        "    def decode(self, i):\n",
        "        out = []\n",
        "        out.append(i % 4)\n",
        "        i = i // 4\n",
        "        out.append(i % 5)\n",
        "        i = i // 5\n",
        "        out.append(i % 5)\n",
        "        i = i // 5\n",
        "        out.append(i)\n",
        "        assert 0 <= i < 5\n",
        "        return reversed(out)\n",
        "\n",
        "    def step(self, a):\n",
        "        transitions = self.P[self.s][a]\n",
        "        i = categorical_sample([t[0] for t in transitions], self.np_random)\n",
        "        p, s, r, d = transitions[i]\n",
        "        self.s = s\n",
        "        self.lastaction = a\n",
        "        return (int(s), r, d, {\"prob\": p})\n",
        "\n",
        "    def reset(\n",
        "        self,\n",
        "        *,\n",
        "        seed: Optional[int] = None,\n",
        "        return_info: bool = False,\n",
        "        options: Optional[dict] = None,\n",
        "    ):\n",
        "        super().reset(seed=seed)\n",
        "        self.s = categorical_sample(self.initial_state_distrib, self.np_random)\n",
        "        self.lastaction = None\n",
        "        self.taxi_orientation = 0\n",
        "        if not return_info:\n",
        "            return int(self.s)\n",
        "        else:\n",
        "            return int(self.s), {\"prob\": 1}\n",
        "\n",
        "    def render(self, mode=\"human\"):\n",
        "        if mode == \"ansi\":\n",
        "            return self._render_text()\n",
        "        else:\n",
        "            return self._render_gui(mode)\n",
        "\n",
        "    def _render_gui(self, mode):\n",
        "        import pygame  # dependency to pygame only if rendering with human\n",
        "\n",
        "        if self.window is None:\n",
        "            pygame.init()\n",
        "            pygame.display.set_caption(\"Taxi\")\n",
        "            if mode == \"human\":\n",
        "                self.window = pygame.display.set_mode(WINDOW_SIZE)\n",
        "            else:  # \"rgb_array\"\n",
        "                self.window = pygame.Surface(WINDOW_SIZE)\n",
        "        if self.clock is None:\n",
        "            self.clock = pygame.time.Clock()\n",
        "        if self.taxi_imgs is None:\n",
        "            file_names = [\n",
        "                path.join(path.dirname(__file__), \"img/cab_front.png\"),\n",
        "                path.join(path.dirname(__file__), \"img/cab_rear.png\"),\n",
        "                path.join(path.dirname(__file__), \"img/cab_right.png\"),\n",
        "                path.join(path.dirname(__file__), \"img/cab_left.png\"),\n",
        "            ]\n",
        "            self.taxi_imgs = [\n",
        "                pygame.transform.scale(pygame.image.load(file_name), self.cell_size)\n",
        "                for file_name in file_names\n",
        "            ]\n",
        "        if self.passenger_img is None:\n",
        "            file_name = path.join(path.dirname(__file__), \"img/passenger.png\")\n",
        "            self.passenger_img = pygame.transform.scale(\n",
        "                pygame.image.load(file_name), self.cell_size\n",
        "            )\n",
        "        if self.destination_img is None:\n",
        "            file_name = path.join(path.dirname(__file__), \"img/hotel.png\")\n",
        "            self.destination_img = pygame.transform.scale(\n",
        "                pygame.image.load(file_name), self.cell_size\n",
        "            )\n",
        "            self.destination_img.set_alpha(170)\n",
        "        if self.median_horiz is None:\n",
        "            file_names = [\n",
        "                path.join(path.dirname(__file__), \"img/gridworld_median_left.png\"),\n",
        "                path.join(path.dirname(__file__), \"img/gridworld_median_horiz.png\"),\n",
        "                path.join(path.dirname(__file__), \"img/gridworld_median_right.png\"),\n",
        "            ]\n",
        "            self.median_horiz = [\n",
        "                pygame.transform.scale(pygame.image.load(file_name), self.cell_size)\n",
        "                for file_name in file_names\n",
        "            ]\n",
        "        if self.median_vert is None:\n",
        "            file_names = [\n",
        "                path.join(path.dirname(__file__), \"img/gridworld_median_top.png\"),\n",
        "                path.join(path.dirname(__file__), \"img/gridworld_median_vert.png\"),\n",
        "                path.join(path.dirname(__file__), \"img/gridworld_median_bottom.png\"),\n",
        "            ]\n",
        "            self.median_vert = [\n",
        "                pygame.transform.scale(pygame.image.load(file_name), self.cell_size)\n",
        "                for file_name in file_names\n",
        "            ]\n",
        "        if self.background_img is None:\n",
        "            file_name = path.join(path.dirname(__file__), \"img/taxi_background.png\")\n",
        "            self.background_img = pygame.transform.scale(\n",
        "                pygame.image.load(file_name), self.cell_size\n",
        "            )\n",
        "\n",
        "        desc = self.desc\n",
        "\n",
        "        for y in range(0, desc.shape[0]):\n",
        "            for x in range(0, desc.shape[1]):\n",
        "                cell = (x * self.cell_size[0], y * self.cell_size[1])\n",
        "                self.window.blit(self.background_img, cell)\n",
        "                if desc[y][x] == b\"|\" and (y == 0 or desc[y - 1][x] != b\"|\"):\n",
        "                    self.window.blit(self.median_vert[0], cell)\n",
        "                elif desc[y][x] == b\"|\" and (\n",
        "                    y == desc.shape[0] - 1 or desc[y + 1][x] != b\"|\"\n",
        "                ):\n",
        "                    self.window.blit(self.median_vert[2], cell)\n",
        "                elif desc[y][x] == b\"|\":\n",
        "                    self.window.blit(self.median_vert[1], cell)\n",
        "                elif desc[y][x] == b\"-\" and (x == 0 or desc[y][x - 1] != b\"-\"):\n",
        "                    self.window.blit(self.median_horiz[0], cell)\n",
        "                elif desc[y][x] == b\"-\" and (\n",
        "                    x == desc.shape[1] - 1 or desc[y][x + 1] != b\"-\"\n",
        "                ):\n",
        "                    self.window.blit(self.median_horiz[2], cell)\n",
        "                elif desc[y][x] == b\"-\":\n",
        "                    self.window.blit(self.median_horiz[1], cell)\n",
        "\n",
        "        for cell, color in zip(self.locs, self.locs_colors):\n",
        "            color_cell = pygame.Surface(self.cell_size)\n",
        "            color_cell.set_alpha(128)\n",
        "            color_cell.fill(color)\n",
        "            loc = self.get_surf_loc(cell)\n",
        "            self.window.blit(color_cell, (loc[0], loc[1] + 10))\n",
        "\n",
        "        taxi_row, taxi_col, pass_idx, dest_idx = self.decode(self.s)\n",
        "\n",
        "        if pass_idx < 4:\n",
        "            self.window.blit(self.passenger_img, self.get_surf_loc(self.locs[pass_idx]))\n",
        "\n",
        "        if self.lastaction in [0, 1, 2, 3]:\n",
        "            self.taxi_orientation = self.lastaction\n",
        "        dest_loc = self.get_surf_loc(self.locs[dest_idx])\n",
        "        taxi_location = self.get_surf_loc((taxi_row, taxi_col))\n",
        "\n",
        "        if dest_loc[1] <= taxi_location[1]:\n",
        "            self.window.blit(\n",
        "                self.destination_img,\n",
        "                (dest_loc[0], dest_loc[1] - self.cell_size[1] // 2),\n",
        "            )\n",
        "            self.window.blit(self.taxi_imgs[self.taxi_orientation], taxi_location)\n",
        "        else:  # change blit order for overlapping appearance\n",
        "            self.window.blit(self.taxi_imgs[self.taxi_orientation], taxi_location)\n",
        "            self.window.blit(\n",
        "                self.destination_img,\n",
        "                (dest_loc[0], dest_loc[1] - self.cell_size[1] // 2),\n",
        "            )\n",
        "\n",
        "        if mode == \"human\":\n",
        "            pygame.display.update()\n",
        "            self.clock.tick(self.metadata[\"render_fps\"])\n",
        "        else:  # rgb_array\n",
        "            return np.transpose(\n",
        "                np.array(pygame.surfarray.pixels3d(self.window)), axes=(1, 0, 2)\n",
        "            )\n",
        "\n",
        "    def get_surf_loc(self, map_loc):\n",
        "        return (map_loc[1] * 2 + 1) * self.cell_size[0], (\n",
        "            map_loc[0] + 1\n",
        "        ) * self.cell_size[1]\n",
        "\n",
        "    def _render_text(self):\n",
        "        desc = self.desc.copy().tolist()\n",
        "        outfile = StringIO()\n",
        "\n",
        "        out = [[c.decode(\"utf-8\") for c in line] for line in desc]\n",
        "        taxi_row, taxi_col, pass_idx, dest_idx = self.decode(self.s)\n",
        "\n",
        "        def ul(x):\n",
        "            return \"_\" if x == \" \" else x\n",
        "\n",
        "        if pass_idx < 4:\n",
        "            out[1 + taxi_row][2 * taxi_col + 1] = utils.colorize(\n",
        "                out[1 + taxi_row][2 * taxi_col + 1], \"yellow\", highlight=True\n",
        "            )\n",
        "            pi, pj = self.locs[pass_idx]\n",
        "            out[1 + pi][2 * pj + 1] = utils.colorize(\n",
        "                out[1 + pi][2 * pj + 1], \"blue\", bold=True\n",
        "            )\n",
        "        else:  # passenger in taxi\n",
        "            out[1 + taxi_row][2 * taxi_col + 1] = utils.colorize(\n",
        "                ul(out[1 + taxi_row][2 * taxi_col + 1]), \"green\", highlight=True\n",
        "            )\n",
        "\n",
        "        di, dj = self.locs[dest_idx]\n",
        "        out[1 + di][2 * dj + 1] = utils.colorize(out[1 + di][2 * dj + 1], \"magenta\")\n",
        "        outfile.write(\"\\n\".join([\"\".join(row) for row in out]) + \"\\n\")\n",
        "        if self.lastaction is not None:\n",
        "            outfile.write(\n",
        "                f\"  ({['South', 'North', 'East', 'West', 'Pickup', 'Dropoff'][self.lastaction]})\\n\"\n",
        "            )\n",
        "        else:\n",
        "            outfile.write(\"\\n\")\n",
        "\n",
        "        with closing(outfile):\n",
        "            return outfile.getvalue()\n",
        "\n",
        "    def close(self):\n",
        "        if self.window is not None:\n",
        "            import pygame\n",
        "\n",
        "            pygame.display.quit()\n",
        "            pygame.quit()\n"
      ],
      "metadata": {
        "id": "S-3_c22rTDjn"
      },
      "execution_count": 3,
      "outputs": []
    },
    {
      "cell_type": "code",
      "source": [
        "env =  WareEnv()\n",
        "env.reset()\n",
        "ALPHA = 0.7\n",
        "GAMMA= 0.7\n",
        "exploration = 0.7\n",
        "episodes = 1000"
      ],
      "metadata": {
        "id": "UogI3mzDsNcE"
      },
      "execution_count": 6,
      "outputs": []
    },
    {
      "cell_type": "markdown",
      "source": [
        "We use the third party plugin below for visualizing the average reward and number of steps/episode. It streams the values to it's website for convenient plotting."
      ],
      "metadata": {
        "id": "ZUz915uZ4ebz"
      }
    },
    {
      "cell_type": "code",
      "source": [
        "wandb.login() #plug in used to visualize and plot"
      ],
      "metadata": {
        "colab": {
          "base_uri": "https://localhost:8080/",
          "height": 126
        },
        "id": "2qK2TNL1TlrZ",
        "outputId": "54a40f02-949f-4c64-f3f7-35d6a8143223"
      },
      "execution_count": 5,
      "outputs": [
        {
          "output_type": "stream",
          "name": "stderr",
          "text": [
            "/usr/local/lib/python3.7/dist-packages/tornado/httputil.py:107: DeprecationWarning: Using or importing the ABCs from 'collections' instead of from 'collections.abc' is deprecated since Python 3.3,and in 3.9 it will stop working\n",
            "  class HTTPHeaders(collections.MutableMapping):\n"
          ]
        },
        {
          "output_type": "display_data",
          "data": {
            "text/plain": [
              "<IPython.core.display.Javascript object>"
            ],
            "application/javascript": [
              "\n",
              "        window._wandbApiKey = new Promise((resolve, reject) => {\n",
              "            function loadScript(url) {\n",
              "            return new Promise(function(resolve, reject) {\n",
              "                let newScript = document.createElement(\"script\");\n",
              "                newScript.onerror = reject;\n",
              "                newScript.onload = resolve;\n",
              "                document.body.appendChild(newScript);\n",
              "                newScript.src = url;\n",
              "            });\n",
              "            }\n",
              "            loadScript(\"https://cdn.jsdelivr.net/npm/postmate/build/postmate.min.js\").then(() => {\n",
              "            const iframe = document.createElement('iframe')\n",
              "            iframe.style.cssText = \"width:0;height:0;border:none\"\n",
              "            document.body.appendChild(iframe)\n",
              "            const handshake = new Postmate({\n",
              "                container: iframe,\n",
              "                url: 'https://wandb.ai/authorize'\n",
              "            });\n",
              "            const timeout = setTimeout(() => reject(\"Couldn't auto authenticate\"), 5000)\n",
              "            handshake.then(function(child) {\n",
              "                child.on('authorize', data => {\n",
              "                    clearTimeout(timeout)\n",
              "                    resolve(data)\n",
              "                });\n",
              "            });\n",
              "            })\n",
              "        });\n",
              "    "
            ]
          },
          "metadata": {}
        },
        {
          "output_type": "stream",
          "name": "stderr",
          "text": [
            "\u001b[34m\u001b[1mwandb\u001b[0m: Appending key for api.wandb.ai to your netrc file: /root/.netrc\n"
          ]
        },
        {
          "output_type": "execute_result",
          "data": {
            "text/plain": [
              "True"
            ]
          },
          "metadata": {},
          "execution_count": 5
        }
      ]
    },
    {
      "cell_type": "markdown",
      "source": [
        "Initial Run"
      ],
      "metadata": {
        "id": "hVIuvNVg3NCm"
      }
    },
    {
      "cell_type": "code",
      "source": [
        "#function to get moving average\n",
        "def moving_average(x, w):\n",
        "    return np.convolve(x, np.ones(w), 'valid') / w"
      ],
      "metadata": {
        "id": "Si2NsswW9qdZ"
      },
      "execution_count": 41,
      "outputs": []
    },
    {
      "cell_type": "code",
      "source": [
        "#set inital hyper-parameters\n",
        "ALPHA = 1\n",
        "GAMMA = 0.7\n",
        "exploration = 0.7\n",
        "#number of episodes to train\n",
        "episodes = 500\n",
        "rewards = []\n",
        "steps_episode = []\n",
        "#initialize Q table at 0\n",
        "q_table = np.zeros([env.observation_space.n, env.action_space.n])\n",
        "for ep in range(episodes): #number of episodes\n",
        "  reward_sum = 0 #reward per episode\n",
        "  state = env.reset()\n",
        "  done = False\n",
        "  episode_score = 0\n",
        "  steps = 0 #steps per episode\n",
        "  while not done:\n",
        "            if (random.random() < exploration):\n",
        "                action = env.action_space.sample() # Explore a random action\n",
        "            else:\n",
        "                action = np.argmax(q_table[state]) # Use the action with the highest q-value\n",
        "              \n",
        "            next_state, reward, done, _ = env.step(action)\n",
        "            reward_sum += reward #add reward to total\n",
        "            steps += 1 #add step by 1\n",
        "          \n",
        "            prev_q = q_table[state, action]\n",
        "            next_max_q = np.max(q_table[next_state])\n",
        "            new_q = (1 - ALPHA) * prev_q + ALPHA * (reward + GAMMA * next_max_q)\n",
        "            q_table[state, action] = new_q\n",
        "          \n",
        "            state = next_state #next state\n",
        "      ##if done == New Episode\n",
        "  episode_score +=1\n",
        "  #wandb.log({\"Rewards\": reward_sum, \"Steps\": steps, \"Episodes\": episode_score, \"EPSILON\": exploration\n",
        "      \n",
        "  # })\n",
        "  #if done == New Episode\n",
        "  rewards.append(reward_sum)\n",
        "  print('done')\n",
        "  steps_episode.append(steps)\n",
        "  #all episodes finished"
      ],
      "metadata": {
        "id": "zvFusKPi3CF3"
      },
      "execution_count": null,
      "outputs": []
    },
    {
      "cell_type": "code",
      "source": [
        "plt.plot(moving_average(rewards,10))"
      ],
      "metadata": {
        "colab": {
          "base_uri": "https://localhost:8080/",
          "height": 283
        },
        "id": "f--J2LCz36aw",
        "outputId": "45813d8a-86a0-40dd-dd8c-0a513c7e52cc"
      },
      "execution_count": 40,
      "outputs": [
        {
          "output_type": "execute_result",
          "data": {
            "text/plain": [
              "[<matplotlib.lines.Line2D at 0x7faef2884210>]"
            ]
          },
          "metadata": {},
          "execution_count": 40
        },
        {
          "output_type": "display_data",
          "data": {
            "text/plain": [
              "<Figure size 432x288 with 1 Axes>"
            ],
            "image/png": "[encoded data removed]"
          },
          "metadata": {
            "needs_background": "light"
          }
        }
      ]
    },
    {
      "cell_type": "markdown",
      "source": [
        "We use a simple for loop to change the hyper-parameters value for a specific number of episodes for each value."
      ],
      "metadata": {
        "id": "NZ1w-_Lg4RnK"
      }
    },
    {
      "cell_type": "code",
      "source": [
        "#Gamma/alpha hyperparameter search\n",
        "#initialize the enviorment\n",
        "env =  WareEnv()\n",
        "env.reset()\n",
        "#set initial parameter values\n",
        "exploration = 0.7 #epsilon\n",
        "episodes = 1000\n",
        "rewards = []\n",
        "steps_episode = []\n",
        "episode_score = 0\n",
        "ALPHA=0.7\n",
        "GAMMA = 0.7\n",
        "episodes = 100\n",
        "epsilon = 0.3\n",
        "episodes = 400\n",
        "for GAMMA in np.linspace(0.1, 1, 20): # Gamma/alpha change for variable gridsearch\n",
        "    wandb.init(\n",
        "      # Set the project where this run will be logged\n",
        "      project=\"Q Learning Part 4\", \n",
        "      # We pass a run name (otherwise it’ll be randomly assigned, like sunshine-lollypop-10)\n",
        "      name=f\"gammaaa2{GAMMA}\", \n",
        "      # Track hyperparameters and run metadata\n",
        "      )\n",
        "  \n",
        "  # This simple block simulates a training loop logging metrics\n",
        "    #initialize q-table at zero\n",
        "    q_table = np.zeros([env.observation_space.n, env.action_space.n])\n",
        "    #ALPHA = ALPHA\n",
        "    #GAMMA = 0.6\n",
        "    #exploration = 0.1\n",
        "    #episodes = episodes\n",
        "    rewards = []\n",
        "    steps_episode = []\n",
        "    for ep in range(episodes): #number of episodes\n",
        "      reward_sum = 0 #reward per episode\n",
        "      state = env.reset()\n",
        "      done = False\n",
        "      steps = 0 #steps per episode\n",
        "      while not done:\n",
        "            if (random.random() < exploration):\n",
        "                action = env.action_space.sample() # Explore a random action\n",
        "            else:\n",
        "                action = np.argmax(q_table[state]) # Use the action with the highest q-value\n",
        "              \n",
        "            next_state, reward, done, _ = env.step(action)\n",
        "            reward_sum += reward #add reward to total\n",
        "            steps += 1 #add step by 1\n",
        "          \n",
        "            prev_q = q_table[state, action]\n",
        "            next_max_q = np.max(q_table[next_state])\n",
        "            new_q = (1 - ALPHA) * prev_q + ALPHA * (reward + GAMMA * next_max_q)\n",
        "            q_table[state, action] = new_q\n",
        "          \n",
        "            state = next_state #next state\n",
        "      ##if done == New Episode\n",
        "      episode_score +=1 #count number of episodes\n",
        "      wandb.log({\"Rewards\": reward_sum, \"Steps\": steps, \"Episodes\": episode_score, \"EPSILON\": exploration\n",
        "          \n",
        "      }) #visualize here.\n",
        "      #if done == New Episode\n",
        "      rewards.append(reward_sum)\n",
        "      print('done')\n",
        "      steps_episode.append(steps)\n",
        "  #all episodes finished\n",
        "  # Mark the run as finished\n",
        "    wandb.finish()"
      ],
      "metadata": {
        "id": "9IhsuQaIk1sH"
      },
      "execution_count": null,
      "outputs": []
    },
    {
      "cell_type": "markdown",
      "source": [
        "Epsilon decay"
      ],
      "metadata": {
        "id": "kuibcAT45E8p"
      }
    },
    {
      "cell_type": "code",
      "source": [
        "#set inital hyper-parameters\n",
        "ALPHA = 1\n",
        "GAMMA = 0.7\n",
        "exploration = 0.7\n",
        "#number of episodes to train\n",
        "episodes = 200\n",
        "rewards = []\n",
        "steps_episode = []\n",
        "#Epsilon decay:\n",
        "min_epsilon = 0.1\n",
        "max_epsilon = 1\n",
        "decay_rate = 0.005\n",
        "exploration_list = []\n",
        "#initialize Q table at 0\n",
        "q_table = np.zeros([env.observation_space.n, env.action_space.n])\n",
        "for ep in range(episodes): #number of episodes\n",
        "  reward_sum = 0 #reward per episode\n",
        "  state = env.reset()\n",
        "  done = False\n",
        "  episode_score = 0\n",
        "  steps = 0 #steps per episode\n",
        "  while not done:\n",
        "            if (random.random() < exploration):\n",
        "                action = env.action_space.sample() # Explore a random action\n",
        "            else:\n",
        "                action = np.argmax(q_table[state]) # Use the action with the highest q-value\n",
        "              \n",
        "            next_state, reward, done, _ = env.step(action)\n",
        "            reward_sum += reward #add reward to total\n",
        "            steps += 1 #add step by 1\n",
        "          \n",
        "            prev_q = q_table[state, action]\n",
        "            next_max_q = np.max(q_table[next_state])\n",
        "            new_q = (1 - ALPHA) * prev_q + ALPHA * (reward + GAMMA * next_max_q)\n",
        "            q_table[state, action] = new_q\n",
        "          \n",
        "            state = next_state #next state\n",
        "  ##if done == New Episode###\n",
        "  episode_score +=1\n",
        "  #reduce epsilon after every episode\n",
        "  exploration = min_epsilon + (max_epsilon - min_epsilon)*np.exp(-decay_rate*ep)\n",
        "  exploration_list.append(exploration)\n",
        "  #wandb.log({\"Rewards\": reward_sum, \"Steps\": steps, \"Episodes\": episode_score, \"EPSILON\": exploration\n",
        "      \n",
        "  # })\n",
        "  #if done == New Episode\n",
        "  rewards.append(reward_sum) #episode rewards\n",
        "  steps_episode.append(steps) #number of steps/episode\n",
        "  #all episodes finished"
      ],
      "metadata": {
        "id": "fCkdCLyR5bUq"
      },
      "execution_count": null,
      "outputs": []
    },
    {
      "cell_type": "code",
      "source": [
        "fig, (ax1, ax2) = plt.subplots(1, 2)\n",
        "fig.suptitle('Moving average of rewards/10 episodes and epsilon value/episode')\n",
        "ax1.plot(moving_average(rewards, 10))\n",
        "ax2.plot(exploration_list)\n"
      ],
      "metadata": {
        "colab": {
          "base_uri": "https://localhost:8080/",
          "height": 312
        },
        "id": "XJD8lpxh63Gy",
        "outputId": "09d8a5fa-b450-4095-8e5e-7967c4f1ab5d"
      },
      "execution_count": 38,
      "outputs": [
        {
          "output_type": "execute_result",
          "data": {
            "text/plain": [
              "[<matplotlib.lines.Line2D at 0x7faef2986150>]"
            ]
          },
          "metadata": {},
          "execution_count": 38
        },
        {
          "output_type": "display_data",
          "data": {
            "text/plain": [
              "<Figure size 432x288 with 2 Axes>"
            ],
            "image/png": "[encoded data removed]"
          },
          "metadata": {
            "needs_background": "light"
          }
        }
      ]
    },
    {
      "cell_type": "code",
      "source": [
        "#plots moving average of steps/episode\n",
        "a = moving_average(steps_episode, 10)\n",
        "plt.plot(a)"
      ],
      "metadata": {
        "colab": {
          "base_uri": "https://localhost:8080/",
          "height": 283
        },
        "id": "QttLTg3r9YKk",
        "outputId": "283b7c8e-cc85-4052-a1dc-c93a64e970a2"
      },
      "execution_count": 39,
      "outputs": [
        {
          "output_type": "execute_result",
          "data": {
            "text/plain": [
              "[<matplotlib.lines.Line2D at 0x7faef29170d0>]"
            ]
          },
          "metadata": {},
          "execution_count": 39
        },
        {
          "output_type": "display_data",
          "data": {
            "text/plain": [
              "<Figure size 432x288 with 1 Axes>"
            ],
            "image/png": "[encoded data removed]"
          },
          "metadata": {
            "needs_background": "light"
          }
        }
      ]
    }
  ]
}